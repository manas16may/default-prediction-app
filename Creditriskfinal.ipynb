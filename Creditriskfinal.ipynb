{
  "nbformat": 4,
  "nbformat_minor": 0,
  "metadata": {
    "colab": {
      "name": "Creditriskfinal.ipynb",
      "provenance": [],
      "collapsed_sections": []
    },
    "kernelspec": {
      "name": "python3",
      "display_name": "Python 3"
    },
    "language_info": {
      "name": "python"
    }
  },
  "cells": [
    {
      "cell_type": "markdown",
      "metadata": {
        "id": "lnjIkug10Cuj"
      },
      "source": [
        "##Problem Statement:\n",
        "The data is of 50000 customer id with various features.The task is to predict if the customer will default or not"
      ]
    },
    {
      "cell_type": "markdown",
      "metadata": {
        "id": "5dkLD70wGSb_"
      },
      "source": [
        "##Aim:\n",
        "At the end we intend to make a model which gives a certain level of accuracy with optimum number of features"
      ]
    },
    {
      "cell_type": "markdown",
      "metadata": {
        "id": "bDLyFC1i9Eb5"
      },
      "source": [
        "##Methodology\n",
        "\n",
        "1.   First we made the data suitable for analysis\n",
        "2.   Then we performed some basic EDA to know about some features of the data\n",
        "3.   We tried to make a new feature using isolation forest algorithm so that it becomes easier to learn pattern from data\n",
        "4.   We used weight of evidence and information value for variable selection\n",
        "5.   Then a baseline logistic model was used to predict the probability of default.\n",
        "6.   Then random forest and light gbm model were used to improve the performance\n",
        "7.   In this project we have not used train test split instead of that we have taken a new dataset for testing  "
      ]
    },
    {
      "cell_type": "code",
      "metadata": {
        "id": "myFhZqs4sbX2"
      },
      "source": [
        "import pandas as pd\n",
        "import matplotlib.pyplot as plt\n",
        "import seaborn as sns\n",
        "from sklearn.linear_model import LogisticRegression\n",
        "from sklearn.metrics import classification_report, confusion_matrix\n",
        "from sklearn.model_selection import RandomizedSearchCV\n",
        "from sklearn.feature_selection import RFECV\n",
        "from sklearn.feature_selection import RFE\n",
        "from sklearn.ensemble import RandomForestClassifier\n",
        "from sklearn.model_selection import train_test_split"
      ],
      "execution_count": 1,
      "outputs": []
    },
    {
      "cell_type": "code",
      "metadata": {
        "id": "2KmkRKIDsk3D",
        "cellView": "form"
      },
      "source": [
        "#@title\n",
        "data=pd.read_csv('/content/dcr_full.csv')"
      ],
      "execution_count": null,
      "outputs": []
    },
    {
      "cell_type": "code",
      "metadata": {
        "id": "jyHTV79BtQkB",
        "cellView": "form"
      },
      "source": [
        "#@title\n",
        "data.head()"
      ],
      "execution_count": null,
      "outputs": []
    },
    {
      "cell_type": "code",
      "metadata": {
        "id": "kW1e_6KAt7oj",
        "cellView": "form"
      },
      "source": [
        "#@title\n",
        "l=list(data['id'])\n",
        "l1=[]\n",
        "for i in set(l):\n",
        "  if l.count(i)>11:\n",
        "    l1.append(i)"
      ],
      "execution_count": null,
      "outputs": []
    },
    {
      "cell_type": "code",
      "metadata": {
        "id": "ILHaX2YOTWT0",
        "cellView": "form"
      },
      "source": [
        "#@title\n",
        " df=data[data['id'].isin(list(set(l1)))]\n",
        " df.shape"
      ],
      "execution_count": null,
      "outputs": []
    },
    {
      "cell_type": "code",
      "metadata": {
        "id": "rrya-ZLEa554",
        "cellView": "form"
      },
      "source": [
        "#@title\n",
        "def func(data1):\n",
        "  data1.reset_index(inplace=True)\n",
        "  d=data1[data1.index>len(data1['id'])-1-12]\n",
        "  return d"
      ],
      "execution_count": null,
      "outputs": []
    },
    {
      "cell_type": "code",
      "metadata": {
        "id": "aQX-jxnwejNm",
        "cellView": "form"
      },
      "source": [
        "#@title\n",
        "d=pd.DataFrame()\n",
        "d1=pd.DataFrame()\n",
        "for i in set(l1):\n",
        "    d=func(data[data['id']==i])\n",
        "    d1=pd.concat([d,d1],axis=0)"
      ],
      "execution_count": null,
      "outputs": []
    },
    {
      "cell_type": "code",
      "metadata": {
        "id": "mTLWjugInGqL",
        "cellView": "form"
      },
      "source": [
        "#@title\n",
        "d2=d1[d1['status_time']==2 ]"
      ],
      "execution_count": null,
      "outputs": []
    },
    {
      "cell_type": "code",
      "metadata": {
        "id": "VorAmD7s3t9a",
        "cellView": "form"
      },
      "source": [
        "#@title\n",
        "d1.drop(['index','res_time','lgd_time','recovery_res'],inplace=True,axis=1)"
      ],
      "execution_count": null,
      "outputs": []
    },
    {
      "cell_type": "code",
      "metadata": {
        "id": "nJyQ5aODpoZg",
        "cellView": "form"
      },
      "source": [
        "#@title\n",
        "l=list(d2['id'])\n",
        "finaldf=d1[~d1['id'].isin(l)]\n",
        "final=pd.DataFrame()\n",
        "final=finaldf"
      ],
      "execution_count": null,
      "outputs": []
    },
    {
      "cell_type": "code",
      "metadata": {
        "id": "Au9pMMNY4HpW",
        "cellView": "form"
      },
      "source": [
        "#@title\n",
        "def func1(d):\n",
        "  d.reset_index(inplace=True)\n",
        "  d1=d[d.index>len(d['id'])-2]\n",
        "  return d1"
      ],
      "execution_count": null,
      "outputs": []
    },
    {
      "cell_type": "code",
      "metadata": {
        "id": "1LzpEQHF4Ylx",
        "cellView": "form"
      },
      "source": [
        "#@title\n",
        "d5=pd.DataFrame()\n",
        "d2=pd.DataFrame()\n",
        "for i in set(list(final['id'])):\n",
        "    d2=func1(final[final['id']==i])\n",
        "    d5=pd.concat([d2,d3],axis=0)"
      ],
      "execution_count": null,
      "outputs": []
    },
    {
      "cell_type": "code",
      "metadata": {
        "id": "N6yO7s1_5GDu"
      },
      "source": [
        "d3=pd.read_csv('/content/creditcard.csv')"
      ],
      "execution_count": 275,
      "outputs": []
    },
    {
      "cell_type": "code",
      "metadata": {
        "colab": {
          "base_uri": "https://localhost:8080/",
          "height": 223
        },
        "id": "XwVF08wDIH6-",
        "outputId": "6c1d3fbf-798f-4579-a3a0-db037d380df7"
      },
      "source": [
        "d3.head()"
      ],
      "execution_count": 276,
      "outputs": [
        {
          "output_type": "execute_result",
          "data": {
            "text/html": [
              "<div>\n",
              "<style scoped>\n",
              "    .dataframe tbody tr th:only-of-type {\n",
              "        vertical-align: middle;\n",
              "    }\n",
              "\n",
              "    .dataframe tbody tr th {\n",
              "        vertical-align: top;\n",
              "    }\n",
              "\n",
              "    .dataframe thead th {\n",
              "        text-align: right;\n",
              "    }\n",
              "</style>\n",
              "<table border=\"1\" class=\"dataframe\">\n",
              "  <thead>\n",
              "    <tr style=\"text-align: right;\">\n",
              "      <th></th>\n",
              "      <th>Time</th>\n",
              "      <th>V1</th>\n",
              "      <th>V2</th>\n",
              "      <th>V3</th>\n",
              "      <th>V4</th>\n",
              "      <th>V5</th>\n",
              "      <th>V6</th>\n",
              "      <th>V7</th>\n",
              "      <th>V8</th>\n",
              "      <th>V9</th>\n",
              "      <th>V10</th>\n",
              "      <th>V11</th>\n",
              "      <th>V12</th>\n",
              "      <th>V13</th>\n",
              "      <th>V14</th>\n",
              "      <th>V15</th>\n",
              "      <th>V16</th>\n",
              "      <th>V17</th>\n",
              "      <th>V18</th>\n",
              "      <th>V19</th>\n",
              "      <th>V20</th>\n",
              "      <th>V21</th>\n",
              "      <th>V22</th>\n",
              "      <th>V23</th>\n",
              "      <th>V24</th>\n",
              "      <th>V25</th>\n",
              "      <th>V26</th>\n",
              "      <th>V27</th>\n",
              "      <th>V28</th>\n",
              "      <th>Amount</th>\n",
              "      <th>Class</th>\n",
              "    </tr>\n",
              "  </thead>\n",
              "  <tbody>\n",
              "    <tr>\n",
              "      <th>0</th>\n",
              "      <td>0.0</td>\n",
              "      <td>-1.359807</td>\n",
              "      <td>-0.072781</td>\n",
              "      <td>2.536347</td>\n",
              "      <td>1.378155</td>\n",
              "      <td>-0.338321</td>\n",
              "      <td>0.462388</td>\n",
              "      <td>0.239599</td>\n",
              "      <td>0.098698</td>\n",
              "      <td>0.363787</td>\n",
              "      <td>0.090794</td>\n",
              "      <td>-0.551600</td>\n",
              "      <td>-0.617801</td>\n",
              "      <td>-0.991390</td>\n",
              "      <td>-0.311169</td>\n",
              "      <td>1.468177</td>\n",
              "      <td>-0.470401</td>\n",
              "      <td>0.207971</td>\n",
              "      <td>0.025791</td>\n",
              "      <td>0.403993</td>\n",
              "      <td>0.251412</td>\n",
              "      <td>-0.018307</td>\n",
              "      <td>0.277838</td>\n",
              "      <td>-0.110474</td>\n",
              "      <td>0.066928</td>\n",
              "      <td>0.128539</td>\n",
              "      <td>-0.189115</td>\n",
              "      <td>0.133558</td>\n",
              "      <td>-0.021053</td>\n",
              "      <td>149.62</td>\n",
              "      <td>0</td>\n",
              "    </tr>\n",
              "    <tr>\n",
              "      <th>1</th>\n",
              "      <td>0.0</td>\n",
              "      <td>1.191857</td>\n",
              "      <td>0.266151</td>\n",
              "      <td>0.166480</td>\n",
              "      <td>0.448154</td>\n",
              "      <td>0.060018</td>\n",
              "      <td>-0.082361</td>\n",
              "      <td>-0.078803</td>\n",
              "      <td>0.085102</td>\n",
              "      <td>-0.255425</td>\n",
              "      <td>-0.166974</td>\n",
              "      <td>1.612727</td>\n",
              "      <td>1.065235</td>\n",
              "      <td>0.489095</td>\n",
              "      <td>-0.143772</td>\n",
              "      <td>0.635558</td>\n",
              "      <td>0.463917</td>\n",
              "      <td>-0.114805</td>\n",
              "      <td>-0.183361</td>\n",
              "      <td>-0.145783</td>\n",
              "      <td>-0.069083</td>\n",
              "      <td>-0.225775</td>\n",
              "      <td>-0.638672</td>\n",
              "      <td>0.101288</td>\n",
              "      <td>-0.339846</td>\n",
              "      <td>0.167170</td>\n",
              "      <td>0.125895</td>\n",
              "      <td>-0.008983</td>\n",
              "      <td>0.014724</td>\n",
              "      <td>2.69</td>\n",
              "      <td>0</td>\n",
              "    </tr>\n",
              "    <tr>\n",
              "      <th>2</th>\n",
              "      <td>1.0</td>\n",
              "      <td>-1.358354</td>\n",
              "      <td>-1.340163</td>\n",
              "      <td>1.773209</td>\n",
              "      <td>0.379780</td>\n",
              "      <td>-0.503198</td>\n",
              "      <td>1.800499</td>\n",
              "      <td>0.791461</td>\n",
              "      <td>0.247676</td>\n",
              "      <td>-1.514654</td>\n",
              "      <td>0.207643</td>\n",
              "      <td>0.624501</td>\n",
              "      <td>0.066084</td>\n",
              "      <td>0.717293</td>\n",
              "      <td>-0.165946</td>\n",
              "      <td>2.345865</td>\n",
              "      <td>-2.890083</td>\n",
              "      <td>1.109969</td>\n",
              "      <td>-0.121359</td>\n",
              "      <td>-2.261857</td>\n",
              "      <td>0.524980</td>\n",
              "      <td>0.247998</td>\n",
              "      <td>0.771679</td>\n",
              "      <td>0.909412</td>\n",
              "      <td>-0.689281</td>\n",
              "      <td>-0.327642</td>\n",
              "      <td>-0.139097</td>\n",
              "      <td>-0.055353</td>\n",
              "      <td>-0.059752</td>\n",
              "      <td>378.66</td>\n",
              "      <td>0</td>\n",
              "    </tr>\n",
              "    <tr>\n",
              "      <th>3</th>\n",
              "      <td>1.0</td>\n",
              "      <td>-0.966272</td>\n",
              "      <td>-0.185226</td>\n",
              "      <td>1.792993</td>\n",
              "      <td>-0.863291</td>\n",
              "      <td>-0.010309</td>\n",
              "      <td>1.247203</td>\n",
              "      <td>0.237609</td>\n",
              "      <td>0.377436</td>\n",
              "      <td>-1.387024</td>\n",
              "      <td>-0.054952</td>\n",
              "      <td>-0.226487</td>\n",
              "      <td>0.178228</td>\n",
              "      <td>0.507757</td>\n",
              "      <td>-0.287924</td>\n",
              "      <td>-0.631418</td>\n",
              "      <td>-1.059647</td>\n",
              "      <td>-0.684093</td>\n",
              "      <td>1.965775</td>\n",
              "      <td>-1.232622</td>\n",
              "      <td>-0.208038</td>\n",
              "      <td>-0.108300</td>\n",
              "      <td>0.005274</td>\n",
              "      <td>-0.190321</td>\n",
              "      <td>-1.175575</td>\n",
              "      <td>0.647376</td>\n",
              "      <td>-0.221929</td>\n",
              "      <td>0.062723</td>\n",
              "      <td>0.061458</td>\n",
              "      <td>123.50</td>\n",
              "      <td>0</td>\n",
              "    </tr>\n",
              "    <tr>\n",
              "      <th>4</th>\n",
              "      <td>2.0</td>\n",
              "      <td>-1.158233</td>\n",
              "      <td>0.877737</td>\n",
              "      <td>1.548718</td>\n",
              "      <td>0.403034</td>\n",
              "      <td>-0.407193</td>\n",
              "      <td>0.095921</td>\n",
              "      <td>0.592941</td>\n",
              "      <td>-0.270533</td>\n",
              "      <td>0.817739</td>\n",
              "      <td>0.753074</td>\n",
              "      <td>-0.822843</td>\n",
              "      <td>0.538196</td>\n",
              "      <td>1.345852</td>\n",
              "      <td>-1.119670</td>\n",
              "      <td>0.175121</td>\n",
              "      <td>-0.451449</td>\n",
              "      <td>-0.237033</td>\n",
              "      <td>-0.038195</td>\n",
              "      <td>0.803487</td>\n",
              "      <td>0.408542</td>\n",
              "      <td>-0.009431</td>\n",
              "      <td>0.798278</td>\n",
              "      <td>-0.137458</td>\n",
              "      <td>0.141267</td>\n",
              "      <td>-0.206010</td>\n",
              "      <td>0.502292</td>\n",
              "      <td>0.219422</td>\n",
              "      <td>0.215153</td>\n",
              "      <td>69.99</td>\n",
              "      <td>0</td>\n",
              "    </tr>\n",
              "  </tbody>\n",
              "</table>\n",
              "</div>"
            ],
            "text/plain": [
              "   Time        V1        V2        V3  ...       V27       V28  Amount  Class\n",
              "0   0.0 -1.359807 -0.072781  2.536347  ...  0.133558 -0.021053  149.62      0\n",
              "1   0.0  1.191857  0.266151  0.166480  ... -0.008983  0.014724    2.69      0\n",
              "2   1.0 -1.358354 -1.340163  1.773209  ... -0.055353 -0.059752  378.66      0\n",
              "3   1.0 -0.966272 -0.185226  1.792993  ...  0.062723  0.061458  123.50      0\n",
              "4   2.0 -1.158233  0.877737  1.548718  ...  0.219422  0.215153   69.99      0\n",
              "\n",
              "[5 rows x 31 columns]"
            ]
          },
          "metadata": {
            "tags": []
          },
          "execution_count": 276
        }
      ]
    },
    {
      "cell_type": "code",
      "metadata": {
        "id": "xetuhxNMPCsA"
      },
      "source": [
        "org=d3.drop(['Time','V10','V17','V18','V19','V20','V21','V22','V23','V24','V25','V26','V27','V28','V11','V12','V13','V14','V15','V16'],axis=1)"
      ],
      "execution_count": 277,
      "outputs": []
    },
    {
      "cell_type": "code",
      "metadata": {
        "id": "1UhhCoyIV8Pf"
      },
      "source": [
        "d4=org.iloc[0:100000,:]\n",
        "test=org.iloc[100000:,:]"
      ],
      "execution_count": 385,
      "outputs": []
    },
    {
      "cell_type": "code",
      "metadata": {
        "id": "6R0upaKk_01y"
      },
      "source": [
        "d4.columns=[\"FICO_time\",\"interest_rate_time\",\"uer_time\",\"hpi_time\",\"gdp_time\",\"rate_time\",\"LTV_time\",\"LTV_orig_time\",\"interest_rate_orig_time\",\"balance_time\",'class']\n",
        "test.columns=[\"FICO_time\",\"interest_rate_time\",\"uer_time\",\"hpi_time\",\"gdp_time\",\"rate_time\",\"LTV_time\",\"LTV_orig_time\",\"interest_rate_orig_time\",\"balance_time\",'class']"
      ],
      "execution_count": 386,
      "outputs": []
    },
    {
      "cell_type": "markdown",
      "metadata": {
        "id": "2Pp7ysMUD-6J"
      },
      "source": [
        "##EDA"
      ]
    },
    {
      "cell_type": "code",
      "metadata": {
        "id": "Ab3PZvM0Acni",
        "colab": {
          "base_uri": "https://localhost:8080/",
          "height": 297
        },
        "outputId": "3f2c08da-3ac0-4210-d170-76e992e1e1f4"
      },
      "source": [
        "sns.boxplot(y='status_time',x=\"balance_time\",data=d4,orient='h')"
      ],
      "execution_count": 19,
      "outputs": [
        {
          "output_type": "execute_result",
          "data": {
            "text/plain": [
              "<matplotlib.axes._subplots.AxesSubplot at 0x7f66d443e690>"
            ]
          },
          "metadata": {
            "tags": []
          },
          "execution_count": 19
        },
        {
          "output_type": "display_data",
          "data": {
            "image/png": "[encoded data removed]",
            "text/plain": [
              "<Figure size 432x288 with 1 Axes>"
            ]
          },
          "metadata": {
            "tags": [],
            "needs_background": "light"
          }
        }
      ]
    },
    {
      "cell_type": "code",
      "metadata": {
        "id": "nU3QHrLNzTmp",
        "colab": {
          "base_uri": "https://localhost:8080/",
          "height": 297
        },
        "outputId": "82190e83-2754-4fda-e735-9f1705a5eb9e"
      },
      "source": [
        "sns.boxplot(y='status_time',x=\"LTV_time\",data=d4,orient='h')"
      ],
      "execution_count": 21,
      "outputs": [
        {
          "output_type": "execute_result",
          "data": {
            "text/plain": [
              "<matplotlib.axes._subplots.AxesSubplot at 0x7f66d3e6dd50>"
            ]
          },
          "metadata": {
            "tags": []
          },
          "execution_count": 21
        },
        {
          "output_type": "display_data",
          "data": {
            "image/png": "[encoded data removed]",
            "text/plain": [
              "<Figure size 432x288 with 1 Axes>"
            ]
          },
          "metadata": {
            "tags": [],
            "needs_background": "light"
          }
        }
      ]
    },
    {
      "cell_type": "code",
      "metadata": {
        "id": "eVv0CtkRzaUC",
        "colab": {
          "base_uri": "https://localhost:8080/",
          "height": 297
        },
        "outputId": "957bb50d-11d7-45fb-f3c5-1fdd9f5d1639"
      },
      "source": [
        "sns.boxplot(y='status_time',x=\"interest_rate_time\",data=d4,orient='h')"
      ],
      "execution_count": null,
      "outputs": [
        {
          "output_type": "execute_result",
          "data": {
            "text/plain": [
              "<matplotlib.axes._subplots.AxesSubplot at 0x7f4912173110>"
            ]
          },
          "metadata": {
            "tags": []
          },
          "execution_count": 8
        },
        {
          "output_type": "display_data",
          "data": {
            "image/png": "[encoded data removed]",
            "text/plain": [
              "<Figure size 432x288 with 1 Axes>"
            ]
          },
          "metadata": {
            "tags": [],
            "needs_background": "light"
          }
        }
      ]
    },
    {
      "cell_type": "code",
      "metadata": {
        "id": "pXgZt4vzzc8U",
        "colab": {
          "base_uri": "https://localhost:8080/",
          "height": 297
        },
        "outputId": "12ff69f3-c739-46fe-9599-6314ebd3c823"
      },
      "source": [
        "sns.boxplot(y='status_time',x=\"rate_time\",data=d4,orient='h')"
      ],
      "execution_count": 22,
      "outputs": [
        {
          "output_type": "execute_result",
          "data": {
            "text/plain": [
              "<matplotlib.axes._subplots.AxesSubplot at 0x7f66d3dd8c10>"
            ]
          },
          "metadata": {
            "tags": []
          },
          "execution_count": 22
        },
        {
          "output_type": "display_data",
          "data": {
            "image/png": "[encoded data removed]",
            "text/plain": [
              "<Figure size 432x288 with 1 Axes>"
            ]
          },
          "metadata": {
            "tags": [],
            "needs_background": "light"
          }
        }
      ]
    },
    {
      "cell_type": "code",
      "metadata": {
        "id": "3LEacXVjzdNc",
        "colab": {
          "base_uri": "https://localhost:8080/",
          "height": 297
        },
        "outputId": "ef6641f6-c27e-4cc6-d98c-31e97bfda1c7"
      },
      "source": [
        "sns.boxplot(y='status_time',x=\"hpi_time\",data=d4,orient='h')"
      ],
      "execution_count": 23,
      "outputs": [
        {
          "output_type": "execute_result",
          "data": {
            "text/plain": [
              "<matplotlib.axes._subplots.AxesSubplot at 0x7f66d3d6b850>"
            ]
          },
          "metadata": {
            "tags": []
          },
          "execution_count": 23
        },
        {
          "output_type": "display_data",
          "data": {
            "image/png": "[encoded data removed]",
            "text/plain": [
              "<Figure size 432x288 with 1 Axes>"
            ]
          },
          "metadata": {
            "tags": [],
            "needs_background": "light"
          }
        }
      ]
    },
    {
      "cell_type": "code",
      "metadata": {
        "id": "QKM3Pgd7zdY7",
        "colab": {
          "base_uri": "https://localhost:8080/",
          "height": 297
        },
        "outputId": "11d0bc4e-d540-4f88-c5e9-f17239d96954"
      },
      "source": [
        "sns.boxplot(y='status_time',x=\"gdp_time\",data=d4,orient='h')"
      ],
      "execution_count": 24,
      "outputs": [
        {
          "output_type": "execute_result",
          "data": {
            "text/plain": [
              "<matplotlib.axes._subplots.AxesSubplot at 0x7f66d3cc9610>"
            ]
          },
          "metadata": {
            "tags": []
          },
          "execution_count": 24
        },
        {
          "output_type": "display_data",
          "data": {
            "image/png": "[encoded data removed]",
            "text/plain": [
              "<Figure size 432x288 with 1 Axes>"
            ]
          },
          "metadata": {
            "tags": [],
            "needs_background": "light"
          }
        }
      ]
    },
    {
      "cell_type": "code",
      "metadata": {
        "id": "94JqgHmLzdl7",
        "colab": {
          "base_uri": "https://localhost:8080/",
          "height": 297
        },
        "outputId": "629ef2d2-0bc7-40c3-b4e8-108c49bb68ba"
      },
      "source": [
        "sns.boxplot(y='status_time',x=\"uer_time\",data=d4,orient='h')"
      ],
      "execution_count": 25,
      "outputs": [
        {
          "output_type": "execute_result",
          "data": {
            "text/plain": [
              "<matplotlib.axes._subplots.AxesSubplot at 0x7f66d3d03d90>"
            ]
          },
          "metadata": {
            "tags": []
          },
          "execution_count": 25
        },
        {
          "output_type": "display_data",
          "data": {
            "image/png": "[encoded data removed]",
            "text/plain": [
              "<Figure size 432x288 with 1 Axes>"
            ]
          },
          "metadata": {
            "tags": [],
            "needs_background": "light"
          }
        }
      ]
    },
    {
      "cell_type": "code",
      "metadata": {
        "id": "S7bF_D9ZzeAo",
        "colab": {
          "base_uri": "https://localhost:8080/",
          "height": 297
        },
        "outputId": "a3fbcfbe-c6de-4aa6-f57d-a1ff74a266a4"
      },
      "source": [
        "sns.boxplot(y='status_time',x=\"FICO_time\",data=d4,orient='h')"
      ],
      "execution_count": 29,
      "outputs": [
        {
          "output_type": "execute_result",
          "data": {
            "text/plain": [
              "<matplotlib.axes._subplots.AxesSubplot at 0x7f66d3ae7a90>"
            ]
          },
          "metadata": {
            "tags": []
          },
          "execution_count": 29
        },
        {
          "output_type": "display_data",
          "data": {
            "image/png": "[encoded data removed]",
            "text/plain": [
              "<Figure size 432x288 with 1 Axes>"
            ]
          },
          "metadata": {
            "tags": [],
            "needs_background": "light"
          }
        }
      ]
    },
    {
      "cell_type": "markdown",
      "metadata": {
        "id": "M_43bpb6EukM"
      },
      "source": [
        "###Observation:From the above boxplots we get an intuition that interest rate,hpi time,uer time can be significant variable because here the demarcations are stronger.This will help us in narrowing down are search while using information value."
      ]
    },
    {
      "cell_type": "code",
      "metadata": {
        "id": "auWNvWUyTY7A"
      },
      "source": [
        "X=d4.iloc[:,d4.columns!='class']\n",
        "y=d4.iloc[:,d4.columns=='class']\n",
        "from sklearn.model_selection import train_test_split\n",
        "X_train, X_test, y_train, y_test = train_test_split(X, y, random_state=42,stratify=y)"
      ],
      "execution_count": 389,
      "outputs": []
    },
    {
      "cell_type": "code",
      "metadata": {
        "id": "pqlv3uhI7fLW"
      },
      "source": [
        "X6=test.iloc[:,d4.columns!='class']\n",
        "y6=test.iloc[:,d4.columns=='class']"
      ],
      "execution_count": 392,
      "outputs": []
    },
    {
      "cell_type": "markdown",
      "metadata": {
        "id": "kghDKB0PGGel"
      },
      "source": [
        "###Vanilla Logistic regression model using all the original features"
      ]
    },
    {
      "cell_type": "code",
      "metadata": {
        "id": "SrTILXEyTxVy"
      },
      "source": [
        "m1=LogisticRegression(class_weight='balanced')\n",
        "m1.fit(X_train,y_train)"
      ],
      "execution_count": null,
      "outputs": []
    },
    {
      "cell_type": "code",
      "metadata": {
        "id": "JKLePT4pUvRQ",
        "colab": {
          "base_uri": "https://localhost:8080/"
        },
        "outputId": "41ec602a-2012-4507-e8bc-0a4f8073be65"
      },
      "source": [
        "y_pred=m1.predict(X_test)\n",
        "print(classification_report(y_test,y_pred))"
      ],
      "execution_count": 391,
      "outputs": [
        {
          "output_type": "stream",
          "text": [
            "              precision    recall  f1-score   support\n",
            "\n",
            "           0       1.00      0.96      0.98     24944\n",
            "           1       0.04      0.89      0.08        56\n",
            "\n",
            "    accuracy                           0.96     25000\n",
            "   macro avg       0.52      0.92      0.53     25000\n",
            "weighted avg       1.00      0.96      0.98     25000\n",
            "\n"
          ],
          "name": "stdout"
        }
      ]
    },
    {
      "cell_type": "code",
      "metadata": {
        "colab": {
          "base_uri": "https://localhost:8080/"
        },
        "id": "92vlh2WI7qXt",
        "outputId": "a4fd7b21-be10-453a-9ecf-a0f694090ac3"
      },
      "source": [
        "y_pred1=m1.predict(X6)\n",
        "print(classification_report(y6,y_pred1))"
      ],
      "execution_count": 393,
      "outputs": [
        {
          "output_type": "stream",
          "text": [
            "              precision    recall  f1-score   support\n",
            "\n",
            "           0       1.00      0.91      0.96    184538\n",
            "           1       0.02      0.91      0.03       269\n",
            "\n",
            "    accuracy                           0.91    184807\n",
            "   macro avg       0.51      0.91      0.49    184807\n",
            "weighted avg       1.00      0.91      0.95    184807\n",
            "\n"
          ],
          "name": "stdout"
        }
      ]
    },
    {
      "cell_type": "markdown",
      "metadata": {
        "id": "WrLU8jjwGwlb"
      },
      "source": [
        "###The results are certainly very good but can we perform using lesser but important number of features to make the practical use of this model more easy"
      ]
    },
    {
      "cell_type": "markdown",
      "metadata": {
        "id": "yhLFYbxvHVut"
      },
      "source": [
        "####Here we use isolation forest for anamoly detection and assign them a score which will help machine in finding the patterns more easily "
      ]
    },
    {
      "cell_type": "code",
      "metadata": {
        "id": "6hiLUH0a75_Q"
      },
      "source": [
        "vanilladf=d4.copy()"
      ],
      "execution_count": 396,
      "outputs": []
    },
    {
      "cell_type": "code",
      "metadata": {
        "id": "gD146-DyW9cp",
        "colab": {
          "base_uri": "https://localhost:8080/"
        },
        "outputId": "93d9c22f-5aef-4be0-c11e-989b1ecbe379"
      },
      "source": [
        "from sklearn.ensemble import IsolationForest\n",
        "model=IsolationForest(n_estimators=50, max_samples='auto', contamination=float(0.5),max_features=1.0)\n",
        "model.fit(vanilladf[['uer_time']])"
      ],
      "execution_count": 397,
      "outputs": [
        {
          "output_type": "execute_result",
          "data": {
            "text/plain": [
              "IsolationForest(behaviour='deprecated', bootstrap=False, contamination=0.5,\n",
              "                max_features=1.0, max_samples='auto', n_estimators=50,\n",
              "                n_jobs=None, random_state=None, verbose=0, warm_start=False)"
            ]
          },
          "metadata": {
            "tags": []
          },
          "execution_count": 397
        }
      ]
    },
    {
      "cell_type": "code",
      "metadata": {
        "id": "lkwZvr3xeMEo"
      },
      "source": [
        "vanilladf['score']=model.decision_function(vanilladf[['uer_time']])\n",
        "#X_test1['score']=model.decision_function(X_test1[['uer_time']])"
      ],
      "execution_count": 398,
      "outputs": []
    },
    {
      "cell_type": "code",
      "metadata": {
        "colab": {
          "base_uri": "https://localhost:8080/",
          "height": 223
        },
        "id": "cch4OODXO1Ux",
        "outputId": "ea880551-dfb9-474c-8621-1af1d17ad633"
      },
      "source": [
        "vanilladf.head()"
      ],
      "execution_count": 399,
      "outputs": [
        {
          "output_type": "execute_result",
          "data": {
            "text/html": [
              "<div>\n",
              "<style scoped>\n",
              "    .dataframe tbody tr th:only-of-type {\n",
              "        vertical-align: middle;\n",
              "    }\n",
              "\n",
              "    .dataframe tbody tr th {\n",
              "        vertical-align: top;\n",
              "    }\n",
              "\n",
              "    .dataframe thead th {\n",
              "        text-align: right;\n",
              "    }\n",
              "</style>\n",
              "<table border=\"1\" class=\"dataframe\">\n",
              "  <thead>\n",
              "    <tr style=\"text-align: right;\">\n",
              "      <th></th>\n",
              "      <th>LTV_time</th>\n",
              "      <th>interest_rate_time</th>\n",
              "      <th>rate_time</th>\n",
              "      <th>hpi_time</th>\n",
              "      <th>gdp_time</th>\n",
              "      <th>uer_time</th>\n",
              "      <th>FICO_time</th>\n",
              "      <th>LTV_orig_time</th>\n",
              "      <th>interest_rate_orig_time</th>\n",
              "      <th>balance_time</th>\n",
              "      <th>class</th>\n",
              "      <th>score</th>\n",
              "    </tr>\n",
              "  </thead>\n",
              "  <tbody>\n",
              "    <tr>\n",
              "      <th>0</th>\n",
              "      <td>-1.359807</td>\n",
              "      <td>-0.072781</td>\n",
              "      <td>2.536347</td>\n",
              "      <td>1.378155</td>\n",
              "      <td>-0.338321</td>\n",
              "      <td>0.462388</td>\n",
              "      <td>0.239599</td>\n",
              "      <td>0.098698</td>\n",
              "      <td>0.363787</td>\n",
              "      <td>149.62</td>\n",
              "      <td>0</td>\n",
              "      <td>-0.029987</td>\n",
              "    </tr>\n",
              "    <tr>\n",
              "      <th>1</th>\n",
              "      <td>1.191857</td>\n",
              "      <td>0.266151</td>\n",
              "      <td>0.166480</td>\n",
              "      <td>0.448154</td>\n",
              "      <td>0.060018</td>\n",
              "      <td>-0.082361</td>\n",
              "      <td>-0.078803</td>\n",
              "      <td>0.085102</td>\n",
              "      <td>-0.255425</td>\n",
              "      <td>2.69</td>\n",
              "      <td>0</td>\n",
              "      <td>0.008300</td>\n",
              "    </tr>\n",
              "    <tr>\n",
              "      <th>2</th>\n",
              "      <td>-1.358354</td>\n",
              "      <td>-1.340163</td>\n",
              "      <td>1.773209</td>\n",
              "      <td>0.379780</td>\n",
              "      <td>-0.503198</td>\n",
              "      <td>1.800499</td>\n",
              "      <td>0.791461</td>\n",
              "      <td>0.247676</td>\n",
              "      <td>-1.514654</td>\n",
              "      <td>378.66</td>\n",
              "      <td>0</td>\n",
              "      <td>-0.166949</td>\n",
              "    </tr>\n",
              "    <tr>\n",
              "      <th>3</th>\n",
              "      <td>-0.966272</td>\n",
              "      <td>-0.185226</td>\n",
              "      <td>1.792993</td>\n",
              "      <td>-0.863291</td>\n",
              "      <td>-0.010309</td>\n",
              "      <td>1.247203</td>\n",
              "      <td>0.237609</td>\n",
              "      <td>0.377436</td>\n",
              "      <td>-1.387024</td>\n",
              "      <td>123.50</td>\n",
              "      <td>0</td>\n",
              "      <td>-0.108101</td>\n",
              "    </tr>\n",
              "    <tr>\n",
              "      <th>4</th>\n",
              "      <td>-1.158233</td>\n",
              "      <td>0.877737</td>\n",
              "      <td>1.548718</td>\n",
              "      <td>0.403034</td>\n",
              "      <td>-0.407193</td>\n",
              "      <td>0.095921</td>\n",
              "      <td>0.592941</td>\n",
              "      <td>-0.270533</td>\n",
              "      <td>0.817739</td>\n",
              "      <td>69.99</td>\n",
              "      <td>0</td>\n",
              "      <td>0.000898</td>\n",
              "    </tr>\n",
              "  </tbody>\n",
              "</table>\n",
              "</div>"
            ],
            "text/plain": [
              "   LTV_time  interest_rate_time  rate_time  ...  balance_time  class     score\n",
              "0 -1.359807           -0.072781   2.536347  ...        149.62      0 -0.029987\n",
              "1  1.191857            0.266151   0.166480  ...          2.69      0  0.008300\n",
              "2 -1.358354           -1.340163   1.773209  ...        378.66      0 -0.166949\n",
              "3 -0.966272           -0.185226   1.792993  ...        123.50      0 -0.108101\n",
              "4 -1.158233            0.877737   1.548718  ...         69.99      0  0.000898\n",
              "\n",
              "[5 rows x 12 columns]"
            ]
          },
          "metadata": {
            "tags": []
          },
          "execution_count": 399
        }
      ]
    },
    {
      "cell_type": "markdown",
      "metadata": {
        "id": "BCUGJbLQH1Fj"
      },
      "source": [
        "###Weight of evidence and Information value for finding the suitable features"
      ]
    },
    {
      "cell_type": "code",
      "metadata": {
        "id": "m8jXsCKIRPSH",
        "colab": {
          "base_uri": "https://localhost:8080/"
        },
        "outputId": "f7522d39-c3fe-4fdf-8e30-77fa22bff0d2"
      },
      "source": [
        "!pip install scorecardpy"
      ],
      "execution_count": 40,
      "outputs": [
        {
          "output_type": "stream",
          "text": [
            "Collecting scorecardpy\n",
            "  Downloading scorecardpy-0.1.9.2.tar.gz (55 kB)\n",
            "\u001b[?25l\r\u001b[K     |██████                          | 10 kB 20.7 MB/s eta 0:00:01\r\u001b[K     |███████████▉                    | 20 kB 24.3 MB/s eta 0:00:01\r\u001b[K     |█████████████████▊              | 30 kB 27.9 MB/s eta 0:00:01\r\u001b[K     |███████████████████████▋        | 40 kB 31.4 MB/s eta 0:00:01\r\u001b[K     |█████████████████████████████▌  | 51 kB 34.5 MB/s eta 0:00:01\r\u001b[K     |████████████████████████████████| 55 kB 3.2 MB/s \n",
            "\u001b[?25hRequirement already satisfied: numpy in /usr/local/lib/python3.7/dist-packages (from scorecardpy) (1.19.5)\n",
            "Requirement already satisfied: pandas>=0.25.0 in /usr/local/lib/python3.7/dist-packages (from scorecardpy) (1.1.5)\n",
            "Requirement already satisfied: matplotlib in /usr/local/lib/python3.7/dist-packages (from scorecardpy) (3.2.2)\n",
            "Requirement already satisfied: scikit-learn>=0.19.1 in /usr/local/lib/python3.7/dist-packages (from scorecardpy) (0.22.2.post1)\n",
            "Requirement already satisfied: python-dateutil>=2.7.3 in /usr/local/lib/python3.7/dist-packages (from pandas>=0.25.0->scorecardpy) (2.8.1)\n",
            "Requirement already satisfied: pytz>=2017.2 in /usr/local/lib/python3.7/dist-packages (from pandas>=0.25.0->scorecardpy) (2018.9)\n",
            "Requirement already satisfied: six>=1.5 in /usr/local/lib/python3.7/dist-packages (from python-dateutil>=2.7.3->pandas>=0.25.0->scorecardpy) (1.15.0)\n",
            "Requirement already satisfied: joblib>=0.11 in /usr/local/lib/python3.7/dist-packages (from scikit-learn>=0.19.1->scorecardpy) (1.0.1)\n",
            "Requirement already satisfied: scipy>=0.17.0 in /usr/local/lib/python3.7/dist-packages (from scikit-learn>=0.19.1->scorecardpy) (1.4.1)\n",
            "Requirement already satisfied: cycler>=0.10 in /usr/local/lib/python3.7/dist-packages (from matplotlib->scorecardpy) (0.10.0)\n",
            "Requirement already satisfied: kiwisolver>=1.0.1 in /usr/local/lib/python3.7/dist-packages (from matplotlib->scorecardpy) (1.3.1)\n",
            "Requirement already satisfied: pyparsing!=2.0.4,!=2.1.2,!=2.1.6,>=2.0.1 in /usr/local/lib/python3.7/dist-packages (from matplotlib->scorecardpy) (2.4.7)\n",
            "Building wheels for collected packages: scorecardpy\n",
            "  Building wheel for scorecardpy (setup.py) ... \u001b[?25l\u001b[?25hdone\n",
            "  Created wheel for scorecardpy: filename=scorecardpy-0.1.9.2-py3-none-any.whl size=57842 sha256=d516cb0649d7ae3acc5d75e07630687a8ce379825925dbeaff804ca078a6803c\n",
            "  Stored in directory: /root/.cache/pip/wheels/9d/50/52/715367c478fd2e2317070ccf6539b2c29fc8168144cfbfaeac\n",
            "Successfully built scorecardpy\n",
            "Installing collected packages: scorecardpy\n",
            "Successfully installed scorecardpy-0.1.9.2\n"
          ],
          "name": "stdout"
        }
      ]
    },
    {
      "cell_type": "code",
      "metadata": {
        "id": "pQjBquluRcCL"
      },
      "source": [
        "import scorecardpy as sc"
      ],
      "execution_count": 41,
      "outputs": []
    },
    {
      "cell_type": "code",
      "metadata": {
        "id": "UFCl23mURm6g",
        "colab": {
          "base_uri": "https://localhost:8080/"
        },
        "outputId": "59bf65f3-496b-48f8-978a-04fec624be8e"
      },
      "source": [
        "bins1 = sc.woebin(d4, y=\"class\")"
      ],
      "execution_count": 400,
      "outputs": [
        {
          "output_type": "stream",
          "text": [
            "[INFO] creating woe binning ...\n",
            "Binning on 100000 rows and 11 columns in 00:00:10\n"
          ],
          "name": "stdout"
        }
      ]
    },
    {
      "cell_type": "code",
      "metadata": {
        "id": "7MXFkvL_ZT35"
      },
      "source": [
        "l=X_train.columns"
      ],
      "execution_count": 401,
      "outputs": []
    },
    {
      "cell_type": "code",
      "metadata": {
        "id": "N5Supa7tlrKH"
      },
      "source": [
        "woedf=pd.DataFrame()\n",
        "for i in l:\n",
        "  dd=pd.DataFrame(bins[i])\n",
        "  woedf=pd.concat([woedf,dd],axis=0)"
      ],
      "execution_count": 402,
      "outputs": []
    },
    {
      "cell_type": "code",
      "metadata": {
        "id": "A-5MF22DaRXv",
        "colab": {
          "base_uri": "https://localhost:8080/",
          "height": 1000
        },
        "outputId": "25ddfcb1-8b17-4d96-df55-cf9740ef352e"
      },
      "source": [
        "woedf"
      ],
      "execution_count": 403,
      "outputs": [
        {
          "output_type": "execute_result",
          "data": {
            "text/html": [
              "<div>\n",
              "<style scoped>\n",
              "    .dataframe tbody tr th:only-of-type {\n",
              "        vertical-align: middle;\n",
              "    }\n",
              "\n",
              "    .dataframe tbody tr th {\n",
              "        vertical-align: top;\n",
              "    }\n",
              "\n",
              "    .dataframe thead th {\n",
              "        text-align: right;\n",
              "    }\n",
              "</style>\n",
              "<table border=\"1\" class=\"dataframe\">\n",
              "  <thead>\n",
              "    <tr style=\"text-align: right;\">\n",
              "      <th></th>\n",
              "      <th>variable</th>\n",
              "      <th>bin</th>\n",
              "      <th>count</th>\n",
              "      <th>count_distr</th>\n",
              "      <th>good</th>\n",
              "      <th>bad</th>\n",
              "      <th>badprob</th>\n",
              "      <th>woe</th>\n",
              "      <th>bin_iv</th>\n",
              "      <th>total_iv</th>\n",
              "      <th>breaks</th>\n",
              "      <th>is_special_values</th>\n",
              "    </tr>\n",
              "  </thead>\n",
              "  <tbody>\n",
              "    <tr>\n",
              "      <th>0</th>\n",
              "      <td>LTV_time</td>\n",
              "      <td>[-inf,-2.0)</td>\n",
              "      <td>13100</td>\n",
              "      <td>0.091992</td>\n",
              "      <td>12972</td>\n",
              "      <td>128</td>\n",
              "      <td>0.009771</td>\n",
              "      <td>1.740838</td>\n",
              "      <td>0.746948</td>\n",
              "      <td>1.327506</td>\n",
              "      <td>-2.0</td>\n",
              "      <td>False</td>\n",
              "    </tr>\n",
              "    <tr>\n",
              "      <th>1</th>\n",
              "      <td>LTV_time</td>\n",
              "      <td>[-2.0,1.0)</td>\n",
              "      <td>71184</td>\n",
              "      <td>0.499877</td>\n",
              "      <td>71094</td>\n",
              "      <td>90</td>\n",
              "      <td>0.001264</td>\n",
              "      <td>-0.312593</td>\n",
              "      <td>0.041967</td>\n",
              "      <td>1.327506</td>\n",
              "      <td>1.0</td>\n",
              "      <td>False</td>\n",
              "    </tr>\n",
              "    <tr>\n",
              "      <th>2</th>\n",
              "      <td>LTV_time</td>\n",
              "      <td>[1.0,2.0)</td>\n",
              "      <td>42473</td>\n",
              "      <td>0.298259</td>\n",
              "      <td>42446</td>\n",
              "      <td>27</td>\n",
              "      <td>0.000636</td>\n",
              "      <td>-1.000795</td>\n",
              "      <td>0.188979</td>\n",
              "      <td>1.327506</td>\n",
              "      <td>2.0</td>\n",
              "      <td>False</td>\n",
              "    </tr>\n",
              "    <tr>\n",
              "      <th>3</th>\n",
              "      <td>LTV_time</td>\n",
              "      <td>[2.0,inf)</td>\n",
              "      <td>15646</td>\n",
              "      <td>0.109871</td>\n",
              "      <td>15645</td>\n",
              "      <td>1</td>\n",
              "      <td>0.000064</td>\n",
              "      <td>-3.298551</td>\n",
              "      <td>0.349611</td>\n",
              "      <td>1.327506</td>\n",
              "      <td>inf</td>\n",
              "      <td>False</td>\n",
              "    </tr>\n",
              "    <tr>\n",
              "      <th>0</th>\n",
              "      <td>interest_rate_time</td>\n",
              "      <td>[-inf,-1.0)</td>\n",
              "      <td>22635</td>\n",
              "      <td>0.158950</td>\n",
              "      <td>22622</td>\n",
              "      <td>13</td>\n",
              "      <td>0.000574</td>\n",
              "      <td>-1.102373</td>\n",
              "      <td>0.117169</td>\n",
              "      <td>1.846026</td>\n",
              "      <td>-1.0</td>\n",
              "      <td>False</td>\n",
              "    </tr>\n",
              "    <tr>\n",
              "      <th>1</th>\n",
              "      <td>interest_rate_time</td>\n",
              "      <td>[-1.0,1.0)</td>\n",
              "      <td>93314</td>\n",
              "      <td>0.655281</td>\n",
              "      <td>93280</td>\n",
              "      <td>34</td>\n",
              "      <td>0.000364</td>\n",
              "      <td>-1.557645</td>\n",
              "      <td>0.806805</td>\n",
              "      <td>1.846026</td>\n",
              "      <td>1.0</td>\n",
              "      <td>False</td>\n",
              "    </tr>\n",
              "    <tr>\n",
              "      <th>2</th>\n",
              "      <td>interest_rate_time</td>\n",
              "      <td>[1.0,inf)</td>\n",
              "      <td>26454</td>\n",
              "      <td>0.185769</td>\n",
              "      <td>26255</td>\n",
              "      <td>199</td>\n",
              "      <td>0.007522</td>\n",
              "      <td>1.477049</td>\n",
              "      <td>0.922052</td>\n",
              "      <td>1.846026</td>\n",
              "      <td>inf</td>\n",
              "      <td>False</td>\n",
              "    </tr>\n",
              "    <tr>\n",
              "      <th>0</th>\n",
              "      <td>rate_time</td>\n",
              "      <td>[-inf,-2.0)</td>\n",
              "      <td>11290</td>\n",
              "      <td>0.079282</td>\n",
              "      <td>11102</td>\n",
              "      <td>188</td>\n",
              "      <td>0.016652</td>\n",
              "      <td>2.280917</td>\n",
              "      <td>1.565008</td>\n",
              "      <td>2.848158</td>\n",
              "      <td>-2.0</td>\n",
              "      <td>False</td>\n",
              "    </tr>\n",
              "    <tr>\n",
              "      <th>1</th>\n",
              "      <td>rate_time</td>\n",
              "      <td>[-2.0,-1.0)</td>\n",
              "      <td>21660</td>\n",
              "      <td>0.152104</td>\n",
              "      <td>21636</td>\n",
              "      <td>24</td>\n",
              "      <td>0.001108</td>\n",
              "      <td>-0.444704</td>\n",
              "      <td>0.024297</td>\n",
              "      <td>2.848158</td>\n",
              "      <td>-1.0</td>\n",
              "      <td>False</td>\n",
              "    </tr>\n",
              "    <tr>\n",
              "      <th>2</th>\n",
              "      <td>rate_time</td>\n",
              "      <td>[-1.0,0.0)</td>\n",
              "      <td>31003</td>\n",
              "      <td>0.217713</td>\n",
              "      <td>30983</td>\n",
              "      <td>20</td>\n",
              "      <td>0.000645</td>\n",
              "      <td>-0.986106</td>\n",
              "      <td>0.134750</td>\n",
              "      <td>2.848158</td>\n",
              "      <td>0.0</td>\n",
              "      <td>False</td>\n",
              "    </tr>\n",
              "    <tr>\n",
              "      <th>3</th>\n",
              "      <td>rate_time</td>\n",
              "      <td>[0.0,inf)</td>\n",
              "      <td>78450</td>\n",
              "      <td>0.550901</td>\n",
              "      <td>78436</td>\n",
              "      <td>14</td>\n",
              "      <td>0.000178</td>\n",
              "      <td>-2.271625</td>\n",
              "      <td>1.124104</td>\n",
              "      <td>2.848158</td>\n",
              "      <td>inf</td>\n",
              "      <td>False</td>\n",
              "    </tr>\n",
              "    <tr>\n",
              "      <th>0</th>\n",
              "      <td>hpi_time</td>\n",
              "      <td>[-inf,0.0)</td>\n",
              "      <td>72156</td>\n",
              "      <td>0.506703</td>\n",
              "      <td>72149</td>\n",
              "      <td>7</td>\n",
              "      <td>0.000097</td>\n",
              "      <td>-2.881223</td>\n",
              "      <td>1.380322</td>\n",
              "      <td>3.651837</td>\n",
              "      <td>0.0</td>\n",
              "      <td>False</td>\n",
              "    </tr>\n",
              "    <tr>\n",
              "      <th>1</th>\n",
              "      <td>hpi_time</td>\n",
              "      <td>[0.0,1.0)</td>\n",
              "      <td>42328</td>\n",
              "      <td>0.297241</td>\n",
              "      <td>42316</td>\n",
              "      <td>12</td>\n",
              "      <td>0.000284</td>\n",
              "      <td>-1.808658</td>\n",
              "      <td>0.450158</td>\n",
              "      <td>3.651837</td>\n",
              "      <td>1.0</td>\n",
              "      <td>False</td>\n",
              "    </tr>\n",
              "    <tr>\n",
              "      <th>2</th>\n",
              "      <td>hpi_time</td>\n",
              "      <td>[1.0,2.0)</td>\n",
              "      <td>18352</td>\n",
              "      <td>0.128874</td>\n",
              "      <td>18321</td>\n",
              "      <td>31</td>\n",
              "      <td>0.001689</td>\n",
              "      <td>-0.022460</td>\n",
              "      <td>0.000064</td>\n",
              "      <td>3.651837</td>\n",
              "      <td>2.0</td>\n",
              "      <td>False</td>\n",
              "    </tr>\n",
              "    <tr>\n",
              "      <th>3</th>\n",
              "      <td>hpi_time</td>\n",
              "      <td>[2.0,inf)</td>\n",
              "      <td>9567</td>\n",
              "      <td>0.067183</td>\n",
              "      <td>9371</td>\n",
              "      <td>196</td>\n",
              "      <td>0.020487</td>\n",
              "      <td>2.492095</td>\n",
              "      <td>1.821293</td>\n",
              "      <td>3.651837</td>\n",
              "      <td>inf</td>\n",
              "      <td>False</td>\n",
              "    </tr>\n",
              "    <tr>\n",
              "      <th>0</th>\n",
              "      <td>gdp_time</td>\n",
              "      <td>[-inf,-1.0)</td>\n",
              "      <td>23066</td>\n",
              "      <td>0.161977</td>\n",
              "      <td>22932</td>\n",
              "      <td>134</td>\n",
              "      <td>0.005809</td>\n",
              "      <td>1.216907</td>\n",
              "      <td>0.466563</td>\n",
              "      <td>0.759522</td>\n",
              "      <td>-1.0</td>\n",
              "      <td>False</td>\n",
              "    </tr>\n",
              "    <tr>\n",
              "      <th>1</th>\n",
              "      <td>gdp_time</td>\n",
              "      <td>[-1.0,1.0)</td>\n",
              "      <td>96648</td>\n",
              "      <td>0.678694</td>\n",
              "      <td>96572</td>\n",
              "      <td>76</td>\n",
              "      <td>0.000786</td>\n",
              "      <td>-0.787955</td>\n",
              "      <td>0.291851</td>\n",
              "      <td>0.759522</td>\n",
              "      <td>1.0</td>\n",
              "      <td>False</td>\n",
              "    </tr>\n",
              "    <tr>\n",
              "      <th>2</th>\n",
              "      <td>gdp_time</td>\n",
              "      <td>[1.0,inf)</td>\n",
              "      <td>22689</td>\n",
              "      <td>0.159330</td>\n",
              "      <td>22653</td>\n",
              "      <td>36</td>\n",
              "      <td>0.001587</td>\n",
              "      <td>-0.085173</td>\n",
              "      <td>0.001108</td>\n",
              "      <td>0.759522</td>\n",
              "      <td>inf</td>\n",
              "      <td>False</td>\n",
              "    </tr>\n",
              "    <tr>\n",
              "      <th>0</th>\n",
              "      <td>uer_time</td>\n",
              "      <td>[-inf,-1.0)</td>\n",
              "      <td>21983</td>\n",
              "      <td>0.154372</td>\n",
              "      <td>21833</td>\n",
              "      <td>150</td>\n",
              "      <td>0.006823</td>\n",
              "      <td>1.378813</td>\n",
              "      <td>0.628977</td>\n",
              "      <td>1.057896</td>\n",
              "      <td>-1.0</td>\n",
              "      <td>False</td>\n",
              "    </tr>\n",
              "    <tr>\n",
              "      <th>1</th>\n",
              "      <td>uer_time</td>\n",
              "      <td>[-1.0,3.0)</td>\n",
              "      <td>112266</td>\n",
              "      <td>0.788368</td>\n",
              "      <td>112171</td>\n",
              "      <td>95</td>\n",
              "      <td>0.000846</td>\n",
              "      <td>-0.714547</td>\n",
              "      <td>0.287881</td>\n",
              "      <td>1.057896</td>\n",
              "      <td>3.0</td>\n",
              "      <td>False</td>\n",
              "    </tr>\n",
              "    <tr>\n",
              "      <th>2</th>\n",
              "      <td>uer_time</td>\n",
              "      <td>[3.0,inf)</td>\n",
              "      <td>8154</td>\n",
              "      <td>0.057260</td>\n",
              "      <td>8153</td>\n",
              "      <td>1</td>\n",
              "      <td>0.000123</td>\n",
              "      <td>-2.646785</td>\n",
              "      <td>0.141039</td>\n",
              "      <td>1.057896</td>\n",
              "      <td>inf</td>\n",
              "      <td>False</td>\n",
              "    </tr>\n",
              "    <tr>\n",
              "      <th>0</th>\n",
              "      <td>FICO_time</td>\n",
              "      <td>[-inf,-1.0)</td>\n",
              "      <td>16510</td>\n",
              "      <td>0.115939</td>\n",
              "      <td>16331</td>\n",
              "      <td>179</td>\n",
              "      <td>0.010842</td>\n",
              "      <td>1.845921</td>\n",
              "      <td>1.131111</td>\n",
              "      <td>1.883677</td>\n",
              "      <td>-1.0</td>\n",
              "      <td>False</td>\n",
              "    </tr>\n",
              "    <tr>\n",
              "      <th>1</th>\n",
              "      <td>FICO_time</td>\n",
              "      <td>[-1.0,1.0)</td>\n",
              "      <td>110410</td>\n",
              "      <td>0.775335</td>\n",
              "      <td>110357</td>\n",
              "      <td>53</td>\n",
              "      <td>0.000480</td>\n",
              "      <td>-1.281828</td>\n",
              "      <td>0.718922</td>\n",
              "      <td>1.883677</td>\n",
              "      <td>1.0</td>\n",
              "      <td>False</td>\n",
              "    </tr>\n",
              "    <tr>\n",
              "      <th>2</th>\n",
              "      <td>FICO_time</td>\n",
              "      <td>[1.0,inf)</td>\n",
              "      <td>15483</td>\n",
              "      <td>0.108727</td>\n",
              "      <td>15469</td>\n",
              "      <td>14</td>\n",
              "      <td>0.000904</td>\n",
              "      <td>-0.648180</td>\n",
              "      <td>0.033644</td>\n",
              "      <td>1.883677</td>\n",
              "      <td>inf</td>\n",
              "      <td>False</td>\n",
              "    </tr>\n",
              "    <tr>\n",
              "      <th>0</th>\n",
              "      <td>LTV_orig_time</td>\n",
              "      <td>[-inf,-0.599999999999999)</td>\n",
              "      <td>10074</td>\n",
              "      <td>0.070743</td>\n",
              "      <td>10032</td>\n",
              "      <td>42</td>\n",
              "      <td>0.004169</td>\n",
              "      <td>0.883490</td>\n",
              "      <td>0.088492</td>\n",
              "      <td>1.109220</td>\n",
              "      <td>-0.599999999999999</td>\n",
              "      <td>False</td>\n",
              "    </tr>\n",
              "    <tr>\n",
              "      <th>1</th>\n",
              "      <td>LTV_orig_time</td>\n",
              "      <td>[-0.599999999999999,0.3000000000000018)</td>\n",
              "      <td>94543</td>\n",
              "      <td>0.663912</td>\n",
              "      <td>94481</td>\n",
              "      <td>62</td>\n",
              "      <td>0.000656</td>\n",
              "      <td>-0.969664</td>\n",
              "      <td>0.400075</td>\n",
              "      <td>1.109220</td>\n",
              "      <td>0.3000000000000018</td>\n",
              "      <td>False</td>\n",
              "    </tr>\n",
              "    <tr>\n",
              "      <th>2</th>\n",
              "      <td>LTV_orig_time</td>\n",
              "      <td>[0.3000000000000018,0.500000000000002)</td>\n",
              "      <td>12843</td>\n",
              "      <td>0.090188</td>\n",
              "      <td>12828</td>\n",
              "      <td>15</td>\n",
              "      <td>0.001168</td>\n",
              "      <td>-0.391980</td>\n",
              "      <td>0.011470</td>\n",
              "      <td>1.109220</td>\n",
              "      <td>0.500000000000002</td>\n",
              "      <td>False</td>\n",
              "    </tr>\n",
              "    <tr>\n",
              "      <th>3</th>\n",
              "      <td>LTV_orig_time</td>\n",
              "      <td>[0.500000000000002,1.0000000000000024)</td>\n",
              "      <td>16911</td>\n",
              "      <td>0.118755</td>\n",
              "      <td>16876</td>\n",
              "      <td>35</td>\n",
              "      <td>0.002070</td>\n",
              "      <td>0.181056</td>\n",
              "      <td>0.004266</td>\n",
              "      <td>1.109220</td>\n",
              "      <td>1.0000000000000024</td>\n",
              "      <td>False</td>\n",
              "    </tr>\n",
              "    <tr>\n",
              "      <th>4</th>\n",
              "      <td>LTV_orig_time</td>\n",
              "      <td>[1.0000000000000024,inf)</td>\n",
              "      <td>8032</td>\n",
              "      <td>0.056403</td>\n",
              "      <td>7940</td>\n",
              "      <td>92</td>\n",
              "      <td>0.011454</td>\n",
              "      <td>1.901476</td>\n",
              "      <td>0.604917</td>\n",
              "      <td>1.109220</td>\n",
              "      <td>inf</td>\n",
              "      <td>False</td>\n",
              "    </tr>\n",
              "    <tr>\n",
              "      <th>0</th>\n",
              "      <td>interest_rate_orig_time</td>\n",
              "      <td>[-inf,-1.0)</td>\n",
              "      <td>21881</td>\n",
              "      <td>0.153655</td>\n",
              "      <td>21707</td>\n",
              "      <td>174</td>\n",
              "      <td>0.007952</td>\n",
              "      <td>1.533021</td>\n",
              "      <td>0.850244</td>\n",
              "      <td>1.479932</td>\n",
              "      <td>-1.0</td>\n",
              "      <td>False</td>\n",
              "    </tr>\n",
              "    <tr>\n",
              "      <th>1</th>\n",
              "      <td>interest_rate_orig_time</td>\n",
              "      <td>[-1.0,0.0)</td>\n",
              "      <td>52697</td>\n",
              "      <td>0.370055</td>\n",
              "      <td>52656</td>\n",
              "      <td>41</td>\n",
              "      <td>0.000778</td>\n",
              "      <td>-0.798608</td>\n",
              "      <td>0.162709</td>\n",
              "      <td>1.479932</td>\n",
              "      <td>0.0</td>\n",
              "      <td>False</td>\n",
              "    </tr>\n",
              "    <tr>\n",
              "      <th>2</th>\n",
              "      <td>interest_rate_orig_time</td>\n",
              "      <td>[0.0,inf)</td>\n",
              "      <td>67825</td>\n",
              "      <td>0.476289</td>\n",
              "      <td>67794</td>\n",
              "      <td>31</td>\n",
              "      <td>0.000457</td>\n",
              "      <td>-1.330886</td>\n",
              "      <td>0.466980</td>\n",
              "      <td>1.479932</td>\n",
              "      <td>inf</td>\n",
              "      <td>False</td>\n",
              "    </tr>\n",
              "    <tr>\n",
              "      <th>0</th>\n",
              "      <td>balance_time</td>\n",
              "      <td>[-inf,5.0)</td>\n",
              "      <td>33749</td>\n",
              "      <td>0.236996</td>\n",
              "      <td>33642</td>\n",
              "      <td>107</td>\n",
              "      <td>0.003170</td>\n",
              "      <td>0.608654</td>\n",
              "      <td>0.120699</td>\n",
              "      <td>0.436034</td>\n",
              "      <td>5.0</td>\n",
              "      <td>False</td>\n",
              "    </tr>\n",
              "    <tr>\n",
              "      <th>1</th>\n",
              "      <td>balance_time</td>\n",
              "      <td>[5.0,80.0)</td>\n",
              "      <td>74043</td>\n",
              "      <td>0.519954</td>\n",
              "      <td>73989</td>\n",
              "      <td>54</td>\n",
              "      <td>0.000729</td>\n",
              "      <td>-0.863332</td>\n",
              "      <td>0.259830</td>\n",
              "      <td>0.436034</td>\n",
              "      <td>80.0</td>\n",
              "      <td>False</td>\n",
              "    </tr>\n",
              "    <tr>\n",
              "      <th>2</th>\n",
              "      <td>balance_time</td>\n",
              "      <td>[80.0,115.0)</td>\n",
              "      <td>8943</td>\n",
              "      <td>0.062801</td>\n",
              "      <td>8911</td>\n",
              "      <td>32</td>\n",
              "      <td>0.003578</td>\n",
              "      <td>0.730050</td>\n",
              "      <td>0.049203</td>\n",
              "      <td>0.436034</td>\n",
              "      <td>115.0</td>\n",
              "      <td>False</td>\n",
              "    </tr>\n",
              "    <tr>\n",
              "      <th>3</th>\n",
              "      <td>balance_time</td>\n",
              "      <td>[115.0,inf)</td>\n",
              "      <td>25668</td>\n",
              "      <td>0.180249</td>\n",
              "      <td>25615</td>\n",
              "      <td>53</td>\n",
              "      <td>0.002065</td>\n",
              "      <td>0.178714</td>\n",
              "      <td>0.006301</td>\n",
              "      <td>0.436034</td>\n",
              "      <td>inf</td>\n",
              "      <td>False</td>\n",
              "    </tr>\n",
              "  </tbody>\n",
              "</table>\n",
              "</div>"
            ],
            "text/plain": [
              "                  variable  ... is_special_values\n",
              "0                 LTV_time  ...             False\n",
              "1                 LTV_time  ...             False\n",
              "2                 LTV_time  ...             False\n",
              "3                 LTV_time  ...             False\n",
              "0       interest_rate_time  ...             False\n",
              "1       interest_rate_time  ...             False\n",
              "2       interest_rate_time  ...             False\n",
              "0                rate_time  ...             False\n",
              "1                rate_time  ...             False\n",
              "2                rate_time  ...             False\n",
              "3                rate_time  ...             False\n",
              "0                 hpi_time  ...             False\n",
              "1                 hpi_time  ...             False\n",
              "2                 hpi_time  ...             False\n",
              "3                 hpi_time  ...             False\n",
              "0                 gdp_time  ...             False\n",
              "1                 gdp_time  ...             False\n",
              "2                 gdp_time  ...             False\n",
              "0                 uer_time  ...             False\n",
              "1                 uer_time  ...             False\n",
              "2                 uer_time  ...             False\n",
              "0                FICO_time  ...             False\n",
              "1                FICO_time  ...             False\n",
              "2                FICO_time  ...             False\n",
              "0            LTV_orig_time  ...             False\n",
              "1            LTV_orig_time  ...             False\n",
              "2            LTV_orig_time  ...             False\n",
              "3            LTV_orig_time  ...             False\n",
              "4            LTV_orig_time  ...             False\n",
              "0  interest_rate_orig_time  ...             False\n",
              "1  interest_rate_orig_time  ...             False\n",
              "2  interest_rate_orig_time  ...             False\n",
              "0             balance_time  ...             False\n",
              "1             balance_time  ...             False\n",
              "2             balance_time  ...             False\n",
              "3             balance_time  ...             False\n",
              "\n",
              "[36 rows x 12 columns]"
            ]
          },
          "metadata": {
            "tags": []
          },
          "execution_count": 403
        }
      ]
    },
    {
      "cell_type": "code",
      "metadata": {
        "id": "QDHkowijRv2Y",
        "colab": {
          "base_uri": "https://localhost:8080/"
        },
        "outputId": "ca55b8f2-98f1-4da3-fdf0-f6826d3ef686"
      },
      "source": [
        "data_woe = sc.woebin_ply(d4, bins1)\n",
        "#data_woe.drop(['id_woe'],inplace=True,axis=1)"
      ],
      "execution_count": 405,
      "outputs": [
        {
          "output_type": "stream",
          "text": [
            "[INFO] converting into woe values ...\n"
          ],
          "name": "stdout"
        }
      ]
    },
    {
      "cell_type": "code",
      "metadata": {
        "id": "yeABIUkZCwND",
        "colab": {
          "base_uri": "https://localhost:8080/"
        },
        "outputId": "7ee7be76-990d-496d-bcb7-32853034878c"
      },
      "source": [
        "data_woe.shape"
      ],
      "execution_count": 406,
      "outputs": [
        {
          "output_type": "execute_result",
          "data": {
            "text/plain": [
              "(100000, 11)"
            ]
          },
          "metadata": {
            "tags": []
          },
          "execution_count": 406
        }
      ]
    },
    {
      "cell_type": "code",
      "metadata": {
        "colab": {
          "base_uri": "https://localhost:8080/",
          "height": 223
        },
        "id": "K8sniGf2r4lv",
        "outputId": "6739530f-8988-4be7-f769-7b11501804d5"
      },
      "source": [
        "data_woe.head()"
      ],
      "execution_count": 407,
      "outputs": [
        {
          "output_type": "execute_result",
          "data": {
            "text/html": [
              "<div>\n",
              "<style scoped>\n",
              "    .dataframe tbody tr th:only-of-type {\n",
              "        vertical-align: middle;\n",
              "    }\n",
              "\n",
              "    .dataframe tbody tr th {\n",
              "        vertical-align: top;\n",
              "    }\n",
              "\n",
              "    .dataframe thead th {\n",
              "        text-align: right;\n",
              "    }\n",
              "</style>\n",
              "<table border=\"1\" class=\"dataframe\">\n",
              "  <thead>\n",
              "    <tr style=\"text-align: right;\">\n",
              "      <th></th>\n",
              "      <th>class</th>\n",
              "      <th>gdp_time_woe</th>\n",
              "      <th>rate_time_woe</th>\n",
              "      <th>uer_time_woe</th>\n",
              "      <th>hpi_time_woe</th>\n",
              "      <th>LTV_orig_time_woe</th>\n",
              "      <th>LTV_time_woe</th>\n",
              "      <th>balance_time_woe</th>\n",
              "      <th>FICO_time_woe</th>\n",
              "      <th>interest_rate_orig_time_woe</th>\n",
              "      <th>interest_rate_time_woe</th>\n",
              "    </tr>\n",
              "  </thead>\n",
              "  <tbody>\n",
              "    <tr>\n",
              "      <th>0</th>\n",
              "      <td>0</td>\n",
              "      <td>-1.481460</td>\n",
              "      <td>-2.248723</td>\n",
              "      <td>-0.842669</td>\n",
              "      <td>-0.728972</td>\n",
              "      <td>-0.747996</td>\n",
              "      <td>-0.647788</td>\n",
              "      <td>-0.049465</td>\n",
              "      <td>-1.563489</td>\n",
              "      <td>-1.109684</td>\n",
              "      <td>-1.568991</td>\n",
              "    </tr>\n",
              "    <tr>\n",
              "      <th>1</th>\n",
              "      <td>0</td>\n",
              "      <td>-0.884611</td>\n",
              "      <td>-2.248723</td>\n",
              "      <td>-0.842669</td>\n",
              "      <td>-1.819036</td>\n",
              "      <td>-0.747996</td>\n",
              "      <td>-1.414081</td>\n",
              "      <td>0.773485</td>\n",
              "      <td>-1.563489</td>\n",
              "      <td>-1.109684</td>\n",
              "      <td>-1.568991</td>\n",
              "    </tr>\n",
              "    <tr>\n",
              "      <th>2</th>\n",
              "      <td>0</td>\n",
              "      <td>-1.481460</td>\n",
              "      <td>-2.248723</td>\n",
              "      <td>-1.891044</td>\n",
              "      <td>-1.819036</td>\n",
              "      <td>-0.747996</td>\n",
              "      <td>-0.647788</td>\n",
              "      <td>-0.049465</td>\n",
              "      <td>-1.563489</td>\n",
              "      <td>1.560987</td>\n",
              "      <td>-1.568991</td>\n",
              "    </tr>\n",
              "    <tr>\n",
              "      <th>3</th>\n",
              "      <td>0</td>\n",
              "      <td>-1.481460</td>\n",
              "      <td>-2.248723</td>\n",
              "      <td>-1.891044</td>\n",
              "      <td>-3.196271</td>\n",
              "      <td>-0.747996</td>\n",
              "      <td>-0.647788</td>\n",
              "      <td>-0.049465</td>\n",
              "      <td>-1.563489</td>\n",
              "      <td>1.560987</td>\n",
              "      <td>-1.568991</td>\n",
              "    </tr>\n",
              "    <tr>\n",
              "      <th>4</th>\n",
              "      <td>0</td>\n",
              "      <td>-1.481460</td>\n",
              "      <td>-2.248723</td>\n",
              "      <td>-0.842669</td>\n",
              "      <td>-1.819036</td>\n",
              "      <td>-0.747996</td>\n",
              "      <td>-0.647788</td>\n",
              "      <td>-1.315260</td>\n",
              "      <td>-1.563489</td>\n",
              "      <td>-1.109684</td>\n",
              "      <td>-1.568991</td>\n",
              "    </tr>\n",
              "  </tbody>\n",
              "</table>\n",
              "</div>"
            ],
            "text/plain": [
              "   class  gdp_time_woe  ...  interest_rate_orig_time_woe  interest_rate_time_woe\n",
              "0      0     -1.481460  ...                    -1.109684               -1.568991\n",
              "1      0     -0.884611  ...                    -1.109684               -1.568991\n",
              "2      0     -1.481460  ...                     1.560987               -1.568991\n",
              "3      0     -1.481460  ...                     1.560987               -1.568991\n",
              "4      0     -1.481460  ...                    -1.109684               -1.568991\n",
              "\n",
              "[5 rows x 11 columns]"
            ]
          },
          "metadata": {
            "tags": []
          },
          "execution_count": 407
        }
      ]
    },
    {
      "cell_type": "code",
      "metadata": {
        "id": "Kk3UbvwDsNY4",
        "cellView": "form"
      },
      "source": [
        "#@title\n",
        "X1=data_woe.loc[:,data_woe.columns!='status_time']\n",
        "Y1=data_woe.loc[:,data_woe.columns=='status_time']\n",
        "X_train1, X_test1, y_train1, y_test1 = train_test_split(X1, Y1, random_state=42,stratify=Y1)"
      ],
      "execution_count": 51,
      "outputs": []
    },
    {
      "cell_type": "code",
      "metadata": {
        "id": "FEhC47f5tGHr",
        "cellView": "form"
      },
      "source": [
        "#@title\n",
        "m2=LogisticRegression(max_iter=1000,class_weight='balanced')\n",
        "m2.fit(X_train1,y_train1)"
      ],
      "execution_count": null,
      "outputs": []
    },
    {
      "cell_type": "code",
      "metadata": {
        "id": "MnXqRdHrtQot",
        "cellView": "form"
      },
      "source": [
        "#@title\n",
        "y_pred1=m2.predict(X_test1)\n",
        "print(classification_report(y_test1,y_pred1))"
      ],
      "execution_count": null,
      "outputs": []
    },
    {
      "cell_type": "code",
      "metadata": {
        "id": "IMmSOJhbWzsl",
        "cellView": "form"
      },
      "source": [
        "#@title\n",
        "X5=test_data_woe.iloc[:,2:18]\n",
        "print(classification_report(y_final,m2.predict(X5)))"
      ],
      "execution_count": null,
      "outputs": []
    },
    {
      "cell_type": "code",
      "metadata": {
        "id": "vpnsXifec7b9",
        "colab": {
          "base_uri": "https://localhost:8080/"
        },
        "outputId": "5aaf668e-3423-4fb2-9efb-8589ad4abf94"
      },
      "source": [
        "p={}\n",
        "for i in l:\n",
        "     p[i]=bins[i]['total_iv'][0]\n",
        "p"
      ],
      "execution_count": 408,
      "outputs": [
        {
          "output_type": "execute_result",
          "data": {
            "text/plain": [
              "{'FICO_time': 1.8836767400772505,\n",
              " 'LTV_orig_time': 1.1092203781070897,\n",
              " 'LTV_time': 1.3275060338378428,\n",
              " 'balance_time': 0.4360337722211593,\n",
              " 'gdp_time': 0.7595222174965585,\n",
              " 'hpi_time': 3.6518368698863375,\n",
              " 'interest_rate_orig_time': 1.4799324846656132,\n",
              " 'interest_rate_time': 1.846026243231182,\n",
              " 'rate_time': 2.8481584697925557,\n",
              " 'uer_time': 1.05789642830767}"
            ]
          },
          "metadata": {
            "tags": []
          },
          "execution_count": 408
        }
      ]
    },
    {
      "cell_type": "code",
      "metadata": {
        "id": "ICm4dlUTkR1x"
      },
      "source": [
        "useful1=[]\n",
        "for i in p:\n",
        "  if(p[i]>=1.7):\n",
        "    useful1.append(i)"
      ],
      "execution_count": 409,
      "outputs": []
    },
    {
      "cell_type": "code",
      "metadata": {
        "id": "coUEHzajnVZK",
        "colab": {
          "base_uri": "https://localhost:8080/"
        },
        "outputId": "e1e1a2b7-0721-4075-c951-1a5cf6d1b577"
      },
      "source": [
        "useful1"
      ],
      "execution_count": 410,
      "outputs": [
        {
          "output_type": "execute_result",
          "data": {
            "text/plain": [
              "['interest_rate_time', 'rate_time', 'hpi_time', 'FICO_time']"
            ]
          },
          "metadata": {
            "tags": []
          },
          "execution_count": 410
        }
      ]
    },
    {
      "cell_type": "markdown",
      "metadata": {
        "id": "tCURrWcwzZT8"
      },
      "source": [
        "### 'LTV_time', 'interest_rate_time', 'hpi_time', 'gdp_time', 'uer_time' are the significant features"
      ]
    },
    {
      "cell_type": "code",
      "metadata": {
        "id": "fC9w8N-4rUes",
        "colab": {
          "base_uri": "https://localhost:8080/"
        },
        "outputId": "ec74a24a-39c8-460c-beda-ce566e6e51c8"
      },
      "source": [
        "useful1.extend(['uer_time'])\n",
        "useful1"
      ],
      "execution_count": 411,
      "outputs": [
        {
          "output_type": "execute_result",
          "data": {
            "text/plain": [
              "['interest_rate_time', 'rate_time', 'hpi_time', 'FICO_time', 'uer_time']"
            ]
          },
          "metadata": {
            "tags": []
          },
          "execution_count": 411
        }
      ]
    },
    {
      "cell_type": "code",
      "metadata": {
        "id": "cky1V_-BzXok"
      },
      "source": [
        "comparedf=pd.DataFrame()\n",
        "L=['LTV_time', 'interest_rate_time']\n",
        "for i in useful1:\n",
        "  if(i!='score') and i!='uer_time':\n",
        "    comparedf[i+'_woe']=data_woe[i+'_woe']\n",
        "comparedf['score']=model.decision_function(comparedf[['rate_time_woe']])\n",
        "#comparedf['gdp_time']=vanilladf['gdp_time']\n",
        "#comparedf['uer_time']=vanilladf['uer_time']\n",
        "#comparedf['hpi_time']=vanilladf['hpi_time']\n",
        "#comparedf['score']=vanilladf['score']\n",
        "comparedf.dropna(axis=0,how='any')\n",
        "comparedf['class']=d4['class']"
      ],
      "execution_count": 444,
      "outputs": []
    },
    {
      "cell_type": "markdown",
      "metadata": {
        "id": "aEBz1jqvxUzC"
      },
      "source": [
        "###Out of sample data"
      ]
    },
    {
      "cell_type": "code",
      "metadata": {
        "id": "ji-Z0Wxhu5g0"
      },
      "source": [
        "#test_data=org.iloc[100000:200000,:]\n",
        "#test_data.c=[\"LTV_time\",\"interest_rate_time\",\"rate_time\",\"hpi_time\",\"gdp_time\",\"uer_time\",\"FICO_time\",\"LTV_orig_time\",\"interest_rate_orig_time\",\"balance_time\",'status_time']\n",
        "test_woe = sc.woebin_ply(test, bins1)\n",
        "test['score']=model.decision_function(test[['uer_time']])"
      ],
      "execution_count": null,
      "outputs": []
    },
    {
      "cell_type": "code",
      "metadata": {
        "colab": {
          "base_uri": "https://localhost:8080/",
          "height": 203
        },
        "id": "e1PupWQivpif",
        "outputId": "eb4c22bc-53e2-4741-bc25-9c88b889441b"
      },
      "source": [
        "L=['interest_rate_time', 'hpi_time', 'FICO_time', 'rate_time']\n",
        "finaltestdf=pd.DataFrame()\n",
        "for i in L:\n",
        "  finaltestdf[i]=test_woe[i+\"_woe\"]\n",
        "finaltestdf['score']=test['score']\n",
        "L1=['class']\n",
        "for i in L1:\n",
        "  finaltestdf[i]=test[i]\n",
        "#finaltestdf.dropna(axis=0,how='any')\n",
        "finaltestdf.head()"
      ],
      "execution_count": 448,
      "outputs": [
        {
          "output_type": "execute_result",
          "data": {
            "text/html": [
              "<div>\n",
              "<style scoped>\n",
              "    .dataframe tbody tr th:only-of-type {\n",
              "        vertical-align: middle;\n",
              "    }\n",
              "\n",
              "    .dataframe tbody tr th {\n",
              "        vertical-align: top;\n",
              "    }\n",
              "\n",
              "    .dataframe thead th {\n",
              "        text-align: right;\n",
              "    }\n",
              "</style>\n",
              "<table border=\"1\" class=\"dataframe\">\n",
              "  <thead>\n",
              "    <tr style=\"text-align: right;\">\n",
              "      <th></th>\n",
              "      <th>interest_rate_time</th>\n",
              "      <th>hpi_time</th>\n",
              "      <th>FICO_time</th>\n",
              "      <th>rate_time</th>\n",
              "      <th>score</th>\n",
              "      <th>class</th>\n",
              "    </tr>\n",
              "  </thead>\n",
              "  <tbody>\n",
              "    <tr>\n",
              "      <th>100000</th>\n",
              "      <td>1.547191</td>\n",
              "      <td>-3.196271</td>\n",
              "      <td>-1.563489</td>\n",
              "      <td>-0.605783</td>\n",
              "      <td>-0.168759</td>\n",
              "      <td>0</td>\n",
              "    </tr>\n",
              "    <tr>\n",
              "      <th>100001</th>\n",
              "      <td>1.547191</td>\n",
              "      <td>-0.728972</td>\n",
              "      <td>1.915522</td>\n",
              "      <td>-0.605783</td>\n",
              "      <td>0.011793</td>\n",
              "      <td>0</td>\n",
              "    </tr>\n",
              "    <tr>\n",
              "      <th>100002</th>\n",
              "      <td>-1.568991</td>\n",
              "      <td>-0.728972</td>\n",
              "      <td>-1.563489</td>\n",
              "      <td>-0.605783</td>\n",
              "      <td>-0.234511</td>\n",
              "      <td>0</td>\n",
              "    </tr>\n",
              "    <tr>\n",
              "      <th>100003</th>\n",
              "      <td>-1.568991</td>\n",
              "      <td>-3.196271</td>\n",
              "      <td>-1.563489</td>\n",
              "      <td>-2.248723</td>\n",
              "      <td>0.016506</td>\n",
              "      <td>0</td>\n",
              "    </tr>\n",
              "    <tr>\n",
              "      <th>100004</th>\n",
              "      <td>-1.568991</td>\n",
              "      <td>-3.196271</td>\n",
              "      <td>-1.563489</td>\n",
              "      <td>-0.605783</td>\n",
              "      <td>0.008301</td>\n",
              "      <td>0</td>\n",
              "    </tr>\n",
              "  </tbody>\n",
              "</table>\n",
              "</div>"
            ],
            "text/plain": [
              "        interest_rate_time  hpi_time  FICO_time  rate_time     score  class\n",
              "100000            1.547191 -3.196271  -1.563489  -0.605783 -0.168759      0\n",
              "100001            1.547191 -0.728972   1.915522  -0.605783  0.011793      0\n",
              "100002           -1.568991 -0.728972  -1.563489  -0.605783 -0.234511      0\n",
              "100003           -1.568991 -3.196271  -1.563489  -2.248723  0.016506      0\n",
              "100004           -1.568991 -3.196271  -1.563489  -0.605783  0.008301      0"
            ]
          },
          "metadata": {
            "tags": []
          },
          "execution_count": 448
        }
      ]
    },
    {
      "cell_type": "code",
      "metadata": {
        "id": "iABMl3GhxbSe"
      },
      "source": [
        "X_final=finaltestdf.loc[:,finaltestdf.columns!='class']\n",
        "y_final=finaltestdf.loc[:,finaltestdf.columns=='class']"
      ],
      "execution_count": 449,
      "outputs": []
    },
    {
      "cell_type": "code",
      "metadata": {
        "colab": {
          "base_uri": "https://localhost:8080/"
        },
        "id": "csTNWvRFRPSw",
        "outputId": "81d820ca-9b54-4ada-9bd1-21564b181760"
      },
      "source": [
        "y_final.shape"
      ],
      "execution_count": 450,
      "outputs": [
        {
          "output_type": "execute_result",
          "data": {
            "text/plain": [
              "(184807, 1)"
            ]
          },
          "metadata": {
            "tags": []
          },
          "execution_count": 450
        }
      ]
    },
    {
      "cell_type": "code",
      "metadata": {
        "colab": {
          "base_uri": "https://localhost:8080/",
          "height": 203
        },
        "id": "h3_CJgT1yfq-",
        "outputId": "052c3931-b084-4cb2-e42d-1f235bcfd9cb"
      },
      "source": [
        "X_final.head()"
      ],
      "execution_count": 451,
      "outputs": [
        {
          "output_type": "execute_result",
          "data": {
            "text/html": [
              "<div>\n",
              "<style scoped>\n",
              "    .dataframe tbody tr th:only-of-type {\n",
              "        vertical-align: middle;\n",
              "    }\n",
              "\n",
              "    .dataframe tbody tr th {\n",
              "        vertical-align: top;\n",
              "    }\n",
              "\n",
              "    .dataframe thead th {\n",
              "        text-align: right;\n",
              "    }\n",
              "</style>\n",
              "<table border=\"1\" class=\"dataframe\">\n",
              "  <thead>\n",
              "    <tr style=\"text-align: right;\">\n",
              "      <th></th>\n",
              "      <th>interest_rate_time</th>\n",
              "      <th>hpi_time</th>\n",
              "      <th>FICO_time</th>\n",
              "      <th>rate_time</th>\n",
              "      <th>score</th>\n",
              "    </tr>\n",
              "  </thead>\n",
              "  <tbody>\n",
              "    <tr>\n",
              "      <th>100000</th>\n",
              "      <td>1.547191</td>\n",
              "      <td>-3.196271</td>\n",
              "      <td>-1.563489</td>\n",
              "      <td>-0.605783</td>\n",
              "      <td>-0.168759</td>\n",
              "    </tr>\n",
              "    <tr>\n",
              "      <th>100001</th>\n",
              "      <td>1.547191</td>\n",
              "      <td>-0.728972</td>\n",
              "      <td>1.915522</td>\n",
              "      <td>-0.605783</td>\n",
              "      <td>0.011793</td>\n",
              "    </tr>\n",
              "    <tr>\n",
              "      <th>100002</th>\n",
              "      <td>-1.568991</td>\n",
              "      <td>-0.728972</td>\n",
              "      <td>-1.563489</td>\n",
              "      <td>-0.605783</td>\n",
              "      <td>-0.234511</td>\n",
              "    </tr>\n",
              "    <tr>\n",
              "      <th>100003</th>\n",
              "      <td>-1.568991</td>\n",
              "      <td>-3.196271</td>\n",
              "      <td>-1.563489</td>\n",
              "      <td>-2.248723</td>\n",
              "      <td>0.016506</td>\n",
              "    </tr>\n",
              "    <tr>\n",
              "      <th>100004</th>\n",
              "      <td>-1.568991</td>\n",
              "      <td>-3.196271</td>\n",
              "      <td>-1.563489</td>\n",
              "      <td>-0.605783</td>\n",
              "      <td>0.008301</td>\n",
              "    </tr>\n",
              "  </tbody>\n",
              "</table>\n",
              "</div>"
            ],
            "text/plain": [
              "        interest_rate_time  hpi_time  FICO_time  rate_time     score\n",
              "100000            1.547191 -3.196271  -1.563489  -0.605783 -0.168759\n",
              "100001            1.547191 -0.728972   1.915522  -0.605783  0.011793\n",
              "100002           -1.568991 -0.728972  -1.563489  -0.605783 -0.234511\n",
              "100003           -1.568991 -3.196271  -1.563489  -2.248723  0.016506\n",
              "100004           -1.568991 -3.196271  -1.563489  -0.605783  0.008301"
            ]
          },
          "metadata": {
            "tags": []
          },
          "execution_count": 451
        }
      ]
    },
    {
      "cell_type": "code",
      "metadata": {
        "colab": {
          "base_uri": "https://localhost:8080/"
        },
        "id": "r_jHTe67RVPd",
        "outputId": "ca31e09d-c5a3-4fa7-9780-c9bdf8616b55"
      },
      "source": [
        "y_final.sum()"
      ],
      "execution_count": 452,
      "outputs": [
        {
          "output_type": "execute_result",
          "data": {
            "text/plain": [
              "class    269\n",
              "dtype: int64"
            ]
          },
          "metadata": {
            "tags": []
          },
          "execution_count": 452
        }
      ]
    },
    {
      "cell_type": "markdown",
      "metadata": {
        "id": "pqJVseZ1IS5q"
      },
      "source": [
        "###Logistic regression model"
      ]
    },
    {
      "cell_type": "code",
      "metadata": {
        "id": "BLOSBlEa0jqZ"
      },
      "source": [
        "X4=comparedf.loc[:,comparedf.columns != 'class']\n",
        "y4=comparedf.loc[:,comparedf.columns=='class']\n",
        "X_train2, X_test2, y_train2, y_test2 = train_test_split(X4, y4, random_state=42,stratify=y4)"
      ],
      "execution_count": 453,
      "outputs": []
    },
    {
      "cell_type": "code",
      "metadata": {
        "colab": {
          "base_uri": "https://localhost:8080/"
        },
        "id": "jV2TdH-ouK5r",
        "outputId": "26792398-7399-4126-fabd-44deb663dbde"
      },
      "source": [
        "m3=LogisticRegression(class_weight='balanced')\n",
        "m3.fit(X_train2,y_train2)\n",
        "y_pred2=m3.predict(X_test2)\n",
        "print(classification_report(y_test2,y_pred2))"
      ],
      "execution_count": 454,
      "outputs": [
        {
          "output_type": "stream",
          "text": [
            "/usr/local/lib/python3.7/dist-packages/sklearn/utils/validation.py:760: DataConversionWarning: A column-vector y was passed when a 1d array was expected. Please change the shape of y to (n_samples, ), for example using ravel().\n",
            "  y = column_or_1d(y, warn=True)\n"
          ],
          "name": "stderr"
        },
        {
          "output_type": "stream",
          "text": [
            "              precision    recall  f1-score   support\n",
            "\n",
            "           0       1.00      0.94      0.97     24944\n",
            "           1       0.03      0.95      0.07        56\n",
            "\n",
            "    accuracy                           0.94     25000\n",
            "   macro avg       0.52      0.94      0.52     25000\n",
            "weighted avg       1.00      0.94      0.97     25000\n",
            "\n"
          ],
          "name": "stdout"
        }
      ]
    },
    {
      "cell_type": "code",
      "metadata": {
        "colab": {
          "base_uri": "https://localhost:8080/"
        },
        "id": "BLVjiMP6yF5f",
        "outputId": "943a2080-cf27-4e7a-c3f1-7ac60c265f8d"
      },
      "source": [
        "print(classification_report(y_final,m3.predict(X_final)))"
      ],
      "execution_count": 455,
      "outputs": [
        {
          "output_type": "stream",
          "text": [
            "              precision    recall  f1-score   support\n",
            "\n",
            "           0       1.00      0.88      0.94    184538\n",
            "           1       0.01      0.92      0.02       269\n",
            "\n",
            "    accuracy                           0.88    184807\n",
            "   macro avg       0.51      0.90      0.48    184807\n",
            "weighted avg       1.00      0.88      0.94    184807\n",
            "\n"
          ],
          "name": "stdout"
        }
      ]
    },
    {
      "cell_type": "markdown",
      "metadata": {
        "id": "UG501J7hJcB9"
      },
      "source": [
        "###Light GBM"
      ]
    },
    {
      "cell_type": "code",
      "metadata": {
        "id": "e3pLViiPHqgz",
        "colab": {
          "base_uri": "https://localhost:8080/"
        },
        "outputId": "1cbbe51e-b226-402c-f33a-fc1f8a3341f2"
      },
      "source": [
        "from lightgbm import LGBMClassifier\n",
        "model1 = LGBMClassifier(max_depth=1,class_weight='balanced',n_estimators=1000,learning_rate=0.01)\n",
        "model1.fit(X_train2, y_train2)"
      ],
      "execution_count": 456,
      "outputs": [
        {
          "output_type": "stream",
          "text": [
            "/usr/local/lib/python3.7/dist-packages/sklearn/preprocessing/_label.py:235: DataConversionWarning: A column-vector y was passed when a 1d array was expected. Please change the shape of y to (n_samples, ), for example using ravel().\n",
            "  y = column_or_1d(y, warn=True)\n",
            "/usr/local/lib/python3.7/dist-packages/sklearn/preprocessing/_label.py:268: DataConversionWarning: A column-vector y was passed when a 1d array was expected. Please change the shape of y to (n_samples, ), for example using ravel().\n",
            "  y = column_or_1d(y, warn=True)\n"
          ],
          "name": "stderr"
        },
        {
          "output_type": "execute_result",
          "data": {
            "text/plain": [
              "LGBMClassifier(boosting_type='gbdt', class_weight='balanced',\n",
              "               colsample_bytree=1.0, importance_type='split',\n",
              "               learning_rate=0.01, max_depth=1, min_child_samples=20,\n",
              "               min_child_weight=0.001, min_split_gain=0.0, n_estimators=1000,\n",
              "               n_jobs=-1, num_leaves=31, objective=None, random_state=None,\n",
              "               reg_alpha=0.0, reg_lambda=0.0, silent=True, subsample=1.0,\n",
              "               subsample_for_bin=200000, subsample_freq=0)"
            ]
          },
          "metadata": {
            "tags": []
          },
          "execution_count": 456
        }
      ]
    },
    {
      "cell_type": "code",
      "metadata": {
        "id": "CrjmH61aILsa",
        "colab": {
          "base_uri": "https://localhost:8080/"
        },
        "outputId": "8bf75522-3958-42cc-9859-c333679e644c"
      },
      "source": [
        "y8=model1.predict(X_test2)\n",
        "print(classification_report(y_test2,y8))"
      ],
      "execution_count": 457,
      "outputs": [
        {
          "output_type": "stream",
          "text": [
            "              precision    recall  f1-score   support\n",
            "\n",
            "           0       1.00      0.94      0.97     24944\n",
            "           1       0.03      0.95      0.06        56\n",
            "\n",
            "    accuracy                           0.94     25000\n",
            "   macro avg       0.52      0.94      0.52     25000\n",
            "weighted avg       1.00      0.94      0.97     25000\n",
            "\n"
          ],
          "name": "stdout"
        }
      ]
    },
    {
      "cell_type": "markdown",
      "metadata": {
        "id": "nsEe-f8WJuwq"
      },
      "source": [
        "###Here we see the performance has increased significantly hence we choose this model"
      ]
    }
  ]
}